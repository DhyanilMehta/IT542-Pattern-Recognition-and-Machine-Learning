{
 "metadata": {
  "language_info": {
   "codemirror_mode": {
    "name": "ipython",
    "version": 3
   },
   "file_extension": ".py",
   "mimetype": "text/x-python",
   "name": "python",
   "nbconvert_exporter": "python",
   "pygments_lexer": "ipython3",
   "version": "3.9.2-final"
  },
  "orig_nbformat": 2,
  "kernelspec": {
   "name": "python3",
   "display_name": "Python 3.9.2 64-bit",
   "metadata": {
    "interpreter": {
     "hash": "c569cd2e17f62341e0f08a54f9a867c3c0d3a6f67454072d7de41a8b5dff8343"
    }
   }
  }
 },
 "nbformat": 4,
 "nbformat_minor": 2,
 "cells": [
  {
   "source": [
    "# IT-542 PRML Assignment - 4"
   ],
   "cell_type": "markdown",
   "metadata": {}
  },
  {
   "cell_type": "code",
   "execution_count": 16,
   "metadata": {},
   "outputs": [
    {
     "output_type": "stream",
     "name": "stdout",
     "text": [
      "{'data': array([[5.1, 3.5, 1.4, 0.2],\n       [4.9, 3. , 1.4, 0.2],\n       [4.7, 3.2, 1.3, 0.2],\n       [4.6, 3.1, 1.5, 0.2],\n       [5. , 3.6, 1.4, 0.2],\n       [5.4, 3.9, 1.7, 0.4],\n       [4.6, 3.4, 1.4, 0.3],\n       [5. , 3.4, 1.5, 0.2],\n       [4.4, 2.9, 1.4, 0.2],\n       [4.9, 3.1, 1.5, 0.1],\n       [5.4, 3.7, 1.5, 0.2],\n       [4.8, 3.4, 1.6, 0.2],\n       [4.8, 3. , 1.4, 0.1],\n       [4.3, 3. , 1.1, 0.1],\n       [5.8, 4. , 1.2, 0.2],\n       [5.7, 4.4, 1.5, 0.4],\n       [5.4, 3.9, 1.3, 0.4],\n       [5.1, 3.5, 1.4, 0.3],\n       [5.7, 3.8, 1.7, 0.3],\n       [5.1, 3.8, 1.5, 0.3],\n       [5.4, 3.4, 1.7, 0.2],\n       [5.1, 3.7, 1.5, 0.4],\n       [4.6, 3.6, 1. , 0.2],\n       [5.1, 3.3, 1.7, 0.5],\n       [4.8, 3.4, 1.9, 0.2],\n       [5. , 3. , 1.6, 0.2],\n       [5. , 3.4, 1.6, 0.4],\n       [5.2, 3.5, 1.5, 0.2],\n       [5.2, 3.4, 1.4, 0.2],\n       [4.7, 3.2, 1.6, 0.2],\n       [4.8, 3.1, 1.6, 0.2],\n       [5.4, 3.4, 1.5, 0.4],\n       [5.2, 4.1, 1.5, 0.1],\n       [5.5, 4.2, 1.4, 0.2],\n       [4.9, 3.1, 1.5, 0.2],\n       [5. , 3.2, 1.2, 0.2],\n       [5.5, 3.5, 1.3, 0.2],\n       [4.9, 3.6, 1.4, 0.1],\n       [4.4, 3. , 1.3, 0.2],\n       [5.1, 3.4, 1.5, 0.2],\n       [5. , 3.5, 1.3, 0.3],\n       [4.5, 2.3, 1.3, 0.3],\n       [4.4, 3.2, 1.3, 0.2],\n       [5. , 3.5, 1.6, 0.6],\n       [5.1, 3.8, 1.9, 0.4],\n       [4.8, 3. , 1.4, 0.3],\n       [5.1, 3.8, 1.6, 0.2],\n       [4.6, 3.2, 1.4, 0.2],\n       [5.3, 3.7, 1.5, 0.2],\n       [5. , 3.3, 1.4, 0.2],\n       [7. , 3.2, 4.7, 1.4],\n       [6.4, 3.2, 4.5, 1.5],\n       [6.9, 3.1, 4.9, 1.5],\n       [5.5, 2.3, 4. , 1.3],\n       [6.5, 2.8, 4.6, 1.5],\n       [5.7, 2.8, 4.5, 1.3],\n       [6.3, 3.3, 4.7, 1.6],\n       [4.9, 2.4, 3.3, 1. ],\n       [6.6, 2.9, 4.6, 1.3],\n       [5.2, 2.7, 3.9, 1.4],\n       [5. , 2. , 3.5, 1. ],\n       [5.9, 3. , 4.2, 1.5],\n       [6. , 2.2, 4. , 1. ],\n       [6.1, 2.9, 4.7, 1.4],\n       [5.6, 2.9, 3.6, 1.3],\n       [6.7, 3.1, 4.4, 1.4],\n       [5.6, 3. , 4.5, 1.5],\n       [5.8, 2.7, 4.1, 1. ],\n       [6.2, 2.2, 4.5, 1.5],\n       [5.6, 2.5, 3.9, 1.1],\n       [5.9, 3.2, 4.8, 1.8],\n       [6.1, 2.8, 4. , 1.3],\n       [6.3, 2.5, 4.9, 1.5],\n       [6.1, 2.8, 4.7, 1.2],\n       [6.4, 2.9, 4.3, 1.3],\n       [6.6, 3. , 4.4, 1.4],\n       [6.8, 2.8, 4.8, 1.4],\n       [6.7, 3. , 5. , 1.7],\n       [6. , 2.9, 4.5, 1.5],\n       [5.7, 2.6, 3.5, 1. ],\n       [5.5, 2.4, 3.8, 1.1],\n       [5.5, 2.4, 3.7, 1. ],\n       [5.8, 2.7, 3.9, 1.2],\n       [6. , 2.7, 5.1, 1.6],\n       [5.4, 3. , 4.5, 1.5],\n       [6. , 3.4, 4.5, 1.6],\n       [6.7, 3.1, 4.7, 1.5],\n       [6.3, 2.3, 4.4, 1.3],\n       [5.6, 3. , 4.1, 1.3],\n       [5.5, 2.5, 4. , 1.3],\n       [5.5, 2.6, 4.4, 1.2],\n       [6.1, 3. , 4.6, 1.4],\n       [5.8, 2.6, 4. , 1.2],\n       [5. , 2.3, 3.3, 1. ],\n       [5.6, 2.7, 4.2, 1.3],\n       [5.7, 3. , 4.2, 1.2],\n       [5.7, 2.9, 4.2, 1.3],\n       [6.2, 2.9, 4.3, 1.3],\n       [5.1, 2.5, 3. , 1.1],\n       [5.7, 2.8, 4.1, 1.3],\n       [6.3, 3.3, 6. , 2.5],\n       [5.8, 2.7, 5.1, 1.9],\n       [7.1, 3. , 5.9, 2.1],\n       [6.3, 2.9, 5.6, 1.8],\n       [6.5, 3. , 5.8, 2.2],\n       [7.6, 3. , 6.6, 2.1],\n       [4.9, 2.5, 4.5, 1.7],\n       [7.3, 2.9, 6.3, 1.8],\n       [6.7, 2.5, 5.8, 1.8],\n       [7.2, 3.6, 6.1, 2.5],\n       [6.5, 3.2, 5.1, 2. ],\n       [6.4, 2.7, 5.3, 1.9],\n       [6.8, 3. , 5.5, 2.1],\n       [5.7, 2.5, 5. , 2. ],\n       [5.8, 2.8, 5.1, 2.4],\n       [6.4, 3.2, 5.3, 2.3],\n       [6.5, 3. , 5.5, 1.8],\n       [7.7, 3.8, 6.7, 2.2],\n       [7.7, 2.6, 6.9, 2.3],\n       [6. , 2.2, 5. , 1.5],\n       [6.9, 3.2, 5.7, 2.3],\n       [5.6, 2.8, 4.9, 2. ],\n       [7.7, 2.8, 6.7, 2. ],\n       [6.3, 2.7, 4.9, 1.8],\n       [6.7, 3.3, 5.7, 2.1],\n       [7.2, 3.2, 6. , 1.8],\n       [6.2, 2.8, 4.8, 1.8],\n       [6.1, 3. , 4.9, 1.8],\n       [6.4, 2.8, 5.6, 2.1],\n       [7.2, 3. , 5.8, 1.6],\n       [7.4, 2.8, 6.1, 1.9],\n       [7.9, 3.8, 6.4, 2. ],\n       [6.4, 2.8, 5.6, 2.2],\n       [6.3, 2.8, 5.1, 1.5],\n       [6.1, 2.6, 5.6, 1.4],\n       [7.7, 3. , 6.1, 2.3],\n       [6.3, 3.4, 5.6, 2.4],\n       [6.4, 3.1, 5.5, 1.8],\n       [6. , 3. , 4.8, 1.8],\n       [6.9, 3.1, 5.4, 2.1],\n       [6.7, 3.1, 5.6, 2.4],\n       [6.9, 3.1, 5.1, 2.3],\n       [5.8, 2.7, 5.1, 1.9],\n       [6.8, 3.2, 5.9, 2.3],\n       [6.7, 3.3, 5.7, 2.5],\n       [6.7, 3. , 5.2, 2.3],\n       [6.3, 2.5, 5. , 1.9],\n       [6.5, 3. , 5.2, 2. ],\n       [6.2, 3.4, 5.4, 2.3],\n       [5.9, 3. , 5.1, 1.8]]), 'target': array([0, 0, 0, 0, 0, 0, 0, 0, 0, 0, 0, 0, 0, 0, 0, 0, 0, 0, 0, 0, 0, 0,\n       0, 0, 0, 0, 0, 0, 0, 0, 0, 0, 0, 0, 0, 0, 0, 0, 0, 0, 0, 0, 0, 0,\n       0, 0, 0, 0, 0, 0, 1, 1, 1, 1, 1, 1, 1, 1, 1, 1, 1, 1, 1, 1, 1, 1,\n       1, 1, 1, 1, 1, 1, 1, 1, 1, 1, 1, 1, 1, 1, 1, 1, 1, 1, 1, 1, 1, 1,\n       1, 1, 1, 1, 1, 1, 1, 1, 1, 1, 1, 1, 2, 2, 2, 2, 2, 2, 2, 2, 2, 2,\n       2, 2, 2, 2, 2, 2, 2, 2, 2, 2, 2, 2, 2, 2, 2, 2, 2, 2, 2, 2, 2, 2,\n       2, 2, 2, 2, 2, 2, 2, 2, 2, 2, 2, 2, 2, 2, 2, 2, 2, 2]), 'frame': None, 'target_names': array(['setosa', 'versicolor', 'virginica'], dtype='<U10'), 'DESCR': '.. _iris_dataset:\\n\\nIris plants dataset\\n--------------------\\n\\n**Data Set Characteristics:**\\n\\n    :Number of Instances: 150 (50 in each of three classes)\\n    :Number of Attributes: 4 numeric, predictive attributes and the class\\n    :Attribute Information:\\n        - sepal length in cm\\n        - sepal width in cm\\n        - petal length in cm\\n        - petal width in cm\\n        - class:\\n                - Iris-Setosa\\n                - Iris-Versicolour\\n                - Iris-Virginica\\n                \\n    :Summary Statistics:\\n\\n    ============== ==== ==== ======= ===== ====================\\n                    Min  Max   Mean    SD   Class Correlation\\n    ============== ==== ==== ======= ===== ====================\\n    sepal length:   4.3  7.9   5.84   0.83    0.7826\\n    sepal width:    2.0  4.4   3.05   0.43   -0.4194\\n    petal length:   1.0  6.9   3.76   1.76    0.9490  (high!)\\n    petal width:    0.1  2.5   1.20   0.76    0.9565  (high!)\\n    ============== ==== ==== ======= ===== ====================\\n\\n    :Missing Attribute Values: None\\n    :Class Distribution: 33.3% for each of 3 classes.\\n    :Creator: R.A. Fisher\\n    :Donor: Michael Marshall (MARSHALL%PLU@io.arc.nasa.gov)\\n    :Date: July, 1988\\n\\nThe famous Iris database, first used by Sir R.A. Fisher. The dataset is taken\\nfrom Fisher\\'s paper. Note that it\\'s the same as in R, but not as in the UCI\\nMachine Learning Repository, which has two wrong data points.\\n\\nThis is perhaps the best known database to be found in the\\npattern recognition literature.  Fisher\\'s paper is a classic in the field and\\nis referenced frequently to this day.  (See Duda & Hart, for example.)  The\\ndata set contains 3 classes of 50 instances each, where each class refers to a\\ntype of iris plant.  One class is linearly separable from the other 2; the\\nlatter are NOT linearly separable from each other.\\n\\n.. topic:: References\\n\\n   - Fisher, R.A. \"The use of multiple measurements in taxonomic problems\"\\n     Annual Eugenics, 7, Part II, 179-188 (1936); also in \"Contributions to\\n     Mathematical Statistics\" (John Wiley, NY, 1950).\\n   - Duda, R.O., & Hart, P.E. (1973) Pattern Classification and Scene Analysis.\\n     (Q327.D83) John Wiley & Sons.  ISBN 0-471-22361-1.  See page 218.\\n   - Dasarathy, B.V. (1980) \"Nosing Around the Neighborhood: A New System\\n     Structure and Classification Rule for Recognition in Partially Exposed\\n     Environments\".  IEEE Transactions on Pattern Analysis and Machine\\n     Intelligence, Vol. PAMI-2, No. 1, 67-71.\\n   - Gates, G.W. (1972) \"The Reduced Nearest Neighbor Rule\".  IEEE Transactions\\n     on Information Theory, May 1972, 431-433.\\n   - See also: 1988 MLC Proceedings, 54-64.  Cheeseman et al\"s AUTOCLASS II\\n     conceptual clustering system finds 3 classes in the data.\\n   - Many, many more ...', 'feature_names': ['sepal length (cm)', 'sepal width (cm)', 'petal length (cm)', 'petal width (cm)'], 'filename': 'C:\\\\Users\\\\HP\\\\AppData\\\\Local\\\\Programs\\\\Python\\\\Python39\\\\lib\\\\site-packages\\\\sklearn\\\\datasets\\\\data\\\\iris.csv'}\n"
     ]
    }
   ],
   "source": [
    "# Import and load iris dataset\n",
    "from math import sqrt, exp, pi\n",
    "import numpy as np\n",
    "from sklearn.datasets import load_iris\n",
    "from sklearn.model_selection import train_test_split\n",
    "from sklearn.metrics import accuracy_score\n",
    "from sklearn.naive_bayes import GaussianNB\n",
    "\n",
    "iris = load_iris()\n",
    "print(iris)"
   ]
  },
  {
   "cell_type": "code",
   "execution_count": 17,
   "metadata": {},
   "outputs": [],
   "source": [
    "# Evaluate Naive Bayes algorithm\n",
    "def evaluate_algorithm(dataset, labels):\n",
    "    train_set_data, test_set_data, \\\n",
    "    train_set_labels, test_set_labels = train_test_split(dataset, labels, test_size=0.2, stratify=labels)\n",
    "    \n",
    "    # Predict classes using our implementation\n",
    "    predicted = naive_bayes(train_set_data, train_set_labels, test_set_data)\n",
    "\n",
    "    # Using Sklearn object to predict classes\n",
    "    sk_gaussian_nb_classifier = GaussianNB()\n",
    "    sk_gaussian_nb_classifier.fit(train_set_data, train_set_labels)\n",
    "    sk_predicted = sk_gaussian_nb_classifier.predict(test_set_data)\n",
    "\n",
    "    # Calculating accuracy for both implementations\n",
    "    accuracy = accuracy_score(test_set_labels, predicted)\n",
    "    sk_accuracy = accuracy_score(test_set_labels, sk_predicted)\n",
    "\n",
    "    return predicted, sk_predicted, accuracy, sk_accuracy\n",
    "\n",
    "# Split the dataset by class values, returns a dictionary\n",
    "def separate_by_class(dataset, labels):\n",
    "    separated = {}\n",
    "    for i in range(len(dataset)):\n",
    "        data_point = dataset[i]\n",
    "        class_value = labels[i]\n",
    "        separated[class_value] = separated.get(class_value, []) + [data_point]\n",
    "    return separated\n",
    "\n",
    "# Calculate the mean, stdev and count for each column of iris dataset\n",
    "def get_stats_dataset(data):\n",
    "    mean_features = np.mean(data, axis=0).reshape(len(data[0]), 1)\n",
    "    stdev_features = np.std(data, axis=0).reshape(len(data[0]), 1)\n",
    "    len_features = np.array([len(data[:, 0]), len(data[:, 1]), len(data[:, 2]), len(data[:, 3])]).reshape(len(data[0]), 1)\n",
    "    stats = np.hstack([mean_features, stdev_features, len_features])\n",
    "    return stats\n",
    "\n",
    "# Split dataset by class then calculate statistics for each row\n",
    "def get_stats_by_class(dataset, labels):\n",
    "    separated = separate_by_class(dataset, labels)\n",
    "    stats = {}\n",
    "    for class_value, data in separated.items():\n",
    "        stats[class_value] = get_stats_dataset(np.array(data))\n",
    "    return stats\n",
    "\n",
    "# Calculate the Gaussian probability distribution function for x\n",
    "def calc_gaussian_prob(x, mu, sigma):\n",
    "    exponent = exp(-((x-mu)**2 / (2 * sigma**2 )))\n",
    "    return (1 / (sqrt(2 * pi) * sigma)) * exponent\n",
    "\n",
    "# Calculate class probabilities for a single data point\n",
    "def calc_class_probs(stats, data_point):\n",
    "    total_rows = sum([stats[label][0][2] for label in stats])\n",
    "    probs = dict()\n",
    "    for class_value, class_stats in stats.items():\n",
    "        probs[class_value] = stats[class_value][0][2] / float(total_rows)\n",
    "        for i in range(len(class_stats)):\n",
    "            mu, sigma, _ = class_stats[i]\n",
    "            probs[class_value] *= calc_gaussian_prob(data_point[i], mu, sigma)\n",
    "    return probs\n",
    "\n",
    "# Predict class for a single data point\n",
    "def predict(stats, data_point):\n",
    "    probs = calc_class_probs(stats, data_point)\n",
    "    best_label, best_prob = None, -1\n",
    "    for predicted_class, prob in probs.items():\n",
    "        if best_label is None or prob > best_prob:\n",
    "            best_prob = prob\n",
    "            best_label = predicted_class\n",
    "    return best_label\n",
    "\n",
    "# Naive Bayes Algorithm\n",
    "def naive_bayes(train, train_labels, test):\n",
    "    stats = get_stats_by_class(train, train_labels)\n",
    "    predictions = list()\n",
    "    for row in test:\n",
    "        output = predict(stats, row)\n",
    "        predictions.append(output)\n",
    "    return(predictions)"
   ]
  },
  {
   "cell_type": "code",
   "execution_count": 18,
   "metadata": {},
   "outputs": [
    {
     "output_type": "stream",
     "name": "stdout",
     "text": [
      "Iteration 1:\nCustom predictions: [1, 2, 1, 0, 2, 1, 0, 2, 2, 2, 0, 2, 0, 2, 1, 2, 1, 1, 2, 0, 1, 0, 0, 0, 0, 1, 0, 2, 2, 1]\nsklearn predictions: [1 2 1 0 2 1 0 2 2 2 0 2 0 2 1 2 1 1 2 0 1 0 0 0 0 1 0 2 2 1]\nAccuracy: 96.7%, sklearn Accuracy: 96.7%\n\nIteration 2:\nCustom predictions: [1, 2, 2, 1, 1, 2, 0, 2, 0, 0, 1, 2, 2, 0, 2, 2, 1, 0, 0, 2, 1, 2, 0, 2, 1, 1, 0, 1, 0, 0]\nsklearn predictions: [1 2 2 1 1 2 0 2 0 0 1 2 2 0 2 2 1 0 0 2 1 2 0 2 1 1 0 1 0 0]\nAccuracy: 96.7%, sklearn Accuracy: 96.7%\n\nIteration 3:\nCustom predictions: [1, 2, 0, 2, 2, 2, 2, 0, 0, 0, 2, 1, 0, 2, 2, 2, 1, 1, 1, 0, 1, 0, 1, 2, 2, 1, 0, 0, 0, 1]\nsklearn predictions: [1 2 0 2 2 2 2 0 0 0 2 1 0 2 2 2 1 1 1 0 1 0 1 2 2 1 0 0 0 1]\nAccuracy: 96.7%, sklearn Accuracy: 96.7%\n\nIteration 4:\nCustom predictions: [2, 2, 2, 2, 1, 2, 0, 0, 0, 1, 2, 1, 2, 2, 2, 0, 1, 0, 1, 0, 1, 0, 1, 0, 2, 0, 1, 1, 0, 1]\nsklearn predictions: [2 2 2 2 1 2 0 0 0 1 2 1 2 2 2 0 1 0 1 0 1 0 1 0 2 0 1 1 0 1]\nAccuracy: 100.0%, sklearn Accuracy: 100.0%\n\nIteration 5:\nCustom predictions: [0, 1, 2, 2, 1, 1, 2, 1, 1, 0, 2, 0, 0, 0, 1, 2, 1, 1, 2, 0, 1, 0, 1, 0, 0, 2, 2, 2, 2, 0]\nsklearn predictions: [0 1 2 2 1 1 2 1 1 0 2 0 0 0 1 2 1 1 2 0 1 0 1 0 0 2 2 2 2 0]\nAccuracy: 100.0%, sklearn Accuracy: 100.0%\n\nIteration 6:\nCustom predictions: [2, 0, 1, 0, 0, 2, 2, 1, 2, 1, 1, 1, 0, 0, 2, 2, 0, 2, 0, 1, 1, 0, 2, 2, 1, 1, 0, 0, 2, 1]\nsklearn predictions: [2 0 1 0 0 2 2 1 2 1 1 1 0 0 2 2 0 2 0 1 1 0 2 2 1 1 0 0 2 1]\nAccuracy: 100.0%, sklearn Accuracy: 100.0%\n\nIteration 7:\nCustom predictions: [0, 2, 2, 2, 0, 1, 1, 2, 2, 0, 1, 0, 1, 2, 1, 0, 2, 0, 1, 0, 1, 1, 0, 1, 0, 2, 2, 0, 2, 1]\nsklearn predictions: [0 2 2 2 0 1 1 2 2 0 1 0 1 2 1 0 2 0 1 0 1 1 0 1 0 2 2 0 2 1]\nAccuracy: 100.0%, sklearn Accuracy: 100.0%\n\nIteration 8:\nCustom predictions: [2, 0, 0, 2, 1, 2, 1, 0, 0, 2, 1, 1, 1, 2, 0, 1, 0, 2, 0, 2, 2, 0, 0, 2, 1, 1, 0, 1, 2, 1]\nsklearn predictions: [2 0 0 2 1 2 1 0 0 2 1 1 1 2 0 1 0 2 0 2 2 0 0 2 1 1 0 1 2 1]\nAccuracy: 93.30000000000001%, sklearn Accuracy: 93.30000000000001%\n\nIteration 9:\nCustom predictions: [1, 2, 0, 2, 1, 2, 2, 0, 0, 2, 1, 2, 2, 1, 1, 0, 1, 2, 0, 0, 1, 2, 2, 2, 0, 0, 0, 1, 2, 0]\nsklearn predictions: [1 2 0 2 1 2 2 0 0 2 1 2 2 1 1 0 1 2 0 0 1 2 2 2 0 0 0 1 2 0]\nAccuracy: 93.30000000000001%, sklearn Accuracy: 93.30000000000001%\n\nIteration 10:\nCustom predictions: [2, 2, 2, 1, 1, 2, 1, 1, 0, 0, 1, 0, 0, 1, 1, 0, 0, 1, 1, 2, 2, 2, 2, 0, 0, 0, 0, 1, 2, 2]\nsklearn predictions: [2 2 2 1 1 2 1 1 0 0 1 0 0 1 1 0 0 1 1 2 2 2 2 0 0 0 0 1 2 2]\nAccuracy: 100.0%, sklearn Accuracy: 100.0%\n\n\nCustom Gaussian NB Average Accuracy: 97.670%\nsklearn Gaussian NB Average Accuracy: 97.670%\n----------------------------------------------------------------------\n\n\n"
     ]
    }
   ],
   "source": [
    "# Run Naive Bayes algorithm\n",
    "epochs = 10\n",
    "scores, sk_scores = [], []\n",
    "for i in range(epochs):\n",
    "    print(f\"Iteration {i+1}:\")\n",
    "    pred, sk_pred, acc, sk_acc = evaluate_algorithm(iris.data, iris.target)\n",
    "    acc, sk_acc = float('%.3f' % acc), float('%.3f' % sk_acc)\n",
    "    scores.append(acc)\n",
    "    sk_scores.append(sk_acc)\n",
    "\n",
    "    print(f\"Custom predictions: {pred}\")\n",
    "    print(f\"sklearn predictions: {sk_pred}\")\n",
    "    print(f\"Accuracy: {acc * 100.0}%, sklearn Accuracy: {sk_acc * 100.0}%\")\n",
    "    print()\n",
    "\n",
    "avg_accuracy = (sum(scores) / float(len(scores)))\n",
    "sk_avg_accuracy = (sum(sk_scores) / float(len(sk_scores)))\n",
    "print()\n",
    "print(f\"Custom Gaussian NB Average Accuracy: {avg_accuracy * 100.0:.3f}%\")\n",
    "print(f\"sklearn Gaussian NB Average Accuracy: {sk_avg_accuracy * 100.0:.3f}%\")\n",
    "print(\"----------------------------------------------------------------------\")\n",
    "print(\"\\n\")"
   ]
  }
 ]
}