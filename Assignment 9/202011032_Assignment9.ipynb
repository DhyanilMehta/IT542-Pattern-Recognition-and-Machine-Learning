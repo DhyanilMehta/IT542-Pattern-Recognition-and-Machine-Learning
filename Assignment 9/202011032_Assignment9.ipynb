{
 "metadata": {
  "language_info": {
   "codemirror_mode": {
    "name": "ipython",
    "version": 3
   },
   "file_extension": ".py",
   "mimetype": "text/x-python",
   "name": "python",
   "nbconvert_exporter": "python",
   "pygments_lexer": "ipython3",
   "version": "3.9.4"
  },
  "orig_nbformat": 2,
  "kernelspec": {
   "name": "python394jvsc74a57bd0c569cd2e17f62341e0f08a54f9a867c3c0d3a6f67454072d7de41a8b5dff8343",
   "display_name": "Python 3.9.4 64-bit"
  }
 },
 "nbformat": 4,
 "nbformat_minor": 2,
 "cells": [
  {
   "source": [
    "# PRML Assignment - 9\n",
    "# Gaussian Mixture Model and Logistic Regression"
   ],
   "cell_type": "markdown",
   "metadata": {}
  },
  {
   "cell_type": "code",
   "execution_count": 1,
   "metadata": {},
   "outputs": [],
   "source": [
    "import tqdm\n",
    "import numpy as np\n",
    "# import matplotlib.pyplot as plt\n",
    "from scipy.stats import multivariate_normal\n",
    "from sklearn.datasets import load_iris\n",
    "X, y = load_iris(return_X_y=True)"
   ]
  },
  {
   "source": [
    "## Gaussian Mixture Model Clustering on IRIS Data"
   ],
   "cell_type": "markdown",
   "metadata": {}
  },
  {
   "cell_type": "code",
   "execution_count": 2,
   "metadata": {},
   "outputs": [],
   "source": [
    "class CustomGMM:\n",
    "    def __init__(self, n_clusters, epochs=5):\n",
    "        self.epochs = epochs\n",
    "        self.k = n_clusters\n",
    "\n",
    "\n",
    "    def initialize(self, X):\n",
    "        self.class_probs = np.full(shape=self.k, fill_value=1/self.k)\n",
    "        self.weights = np.full(shape=X.shape, fill_value=1/self.k)\n",
    "\n",
    "        # Initialize with means taken as a random data point/row from the data for each component\n",
    "        random_row_idxs = np.random.randint(0, X.shape[0], size=self.k)\n",
    "        self.means = [X[row_idx, :] for row_idx in random_row_idxs]\n",
    "        self.variances = [np.cov(X.T) for _ in range(self.k)]\n",
    "\n",
    "\n",
    "    def expectation(self, X):\n",
    "        self.weights = self.predict_proba(X)\n",
    "        self.class_probs = self.weights.mean(axis=0)\n",
    "\n",
    "\n",
    "    def maximization(self, X):\n",
    "        for i in range(self.k):\n",
    "            wt = self.weights[:, [i]]\n",
    "            sum_wt = wt.sum()\n",
    "            self.means[i] = (X * wt).sum(axis=0) / sum_wt\n",
    "            self.variances[i] = np.cov(X.T, aweights=(wt / sum_wt).flatten(), bias=True)\n",
    "\n",
    "\n",
    "    def predict_proba(self, X):\n",
    "        likelihood = np.zeros((X.shape[0], self.k))\n",
    "        for i in range(self.k):\n",
    "            distn = multivariate_normal(mean=self.means[i], cov=self.variances[i])\n",
    "            likelihood[:, i] = distn.pdf(X)\n",
    "\n",
    "        numer = likelihood * self.class_probs\n",
    "        denom = numer.sum(axis=1)[:, np.newaxis]\n",
    "        wts = numer / denom\n",
    "\n",
    "        return wts\n",
    "\n",
    "\n",
    "    def fit(self, X):\n",
    "        self.initialize(X)\n",
    "        \n",
    "        for i in tqdm.trange(self.epochs, desc=\"Epochs\"):\n",
    "            # print(f\"Iteration {i + 1} -\")\n",
    "            self.expectation(X)\n",
    "            self.maximization(X)\n",
    "    \n",
    "\n",
    "    def predict(self, X):\n",
    "        weights = self.predict_proba(X)\n",
    "        return np.argmax(weights, axis=1)"
   ]
  },
  {
   "cell_type": "code",
   "execution_count": 3,
   "metadata": {
    "tags": []
   },
   "outputs": [
    {
     "output_type": "stream",
     "name": "stderr",
     "text": [
      "Epochs: 100%|██████████| 25/25 [00:00<00:00, 533.01it/s]\n"
     ]
    }
   ],
   "source": [
    "np.random.seed(42)\n",
    "custom_gmm = CustomGMM(n_clusters=3, epochs=25)\n",
    "custom_gmm.fit(X)"
   ]
  },
  {
   "cell_type": "code",
   "execution_count": 4,
   "metadata": {},
   "outputs": [
    {
     "output_type": "stream",
     "name": "stdout",
     "text": [
      "Adjusted Rand Score for GMM clustering on IRIS data:\n0.9038742317748124\n"
     ]
    }
   ],
   "source": [
    "from sklearn.metrics.cluster import adjusted_rand_score\n",
    "\n",
    "print(\"Adjusted Rand Score for GMM clustering on IRIS data:\")\n",
    "print(adjusted_rand_score(y, custom_gmm.predict(X)))"
   ]
  },
  {
   "source": [
    "## Logistic Regression on IRIS Data using `sklearn`"
   ],
   "cell_type": "markdown",
   "metadata": {}
  },
  {
   "cell_type": "code",
   "execution_count": 6,
   "metadata": {},
   "outputs": [
    {
     "output_type": "stream",
     "name": "stdout",
     "text": [
      "Predictions:  [0 2 1 1 0 1 0 0 2 1 2 2 2 1 0 0 0 1 1 2 0 2 1 2 2 2 1 0 2 0]\nAccuracy:  0.967\n"
     ]
    }
   ],
   "source": [
    "from sklearn.linear_model import LogisticRegression\n",
    "from sklearn.model_selection import train_test_split\n",
    "np.set_printoptions(suppress=True)\n",
    "\n",
    "X_train, X_test, y_train, y_test = train_test_split(X, y, test_size=0.2, stratify=y, random_state=42)\n",
    "\n",
    "lr_classifier = LogisticRegression(random_state=42).fit(X_train, y_train)\n",
    "print(\"Predictions: \", lr_classifier.predict(X_test))\n",
    "print(\"Accuracy: \", round(lr_classifier.score(X_test, y_test), 3))"
   ]
  }
 ]
}